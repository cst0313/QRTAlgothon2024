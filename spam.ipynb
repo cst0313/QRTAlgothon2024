{
 "cells": [
  {
   "cell_type": "code",
   "id": "initial_id",
   "metadata": {
    "collapsed": true,
    "ExecuteTime": {
     "end_time": "2024-11-16T23:25:43.856742Z",
     "start_time": "2024-11-16T23:25:33.935778Z"
    }
   },
   "source": [
    "import time\n",
    "from datetime import datetime, timedelta\n",
    "\n",
    "num = 6555\n",
    "now = datetime.now()\n",
    "prev_passcode = \"l9Du3GZLJkFwiFug\"\n",
    "\n",
    "# Start time\n",
    "start_time = datetime(2024, 11, 17, 0o2, 0o3)\n",
    "\n",
    "# Current time\n",
    "current_time = datetime.now()\n",
    "\n",
    "# Wait until the start time if it's in the future\n",
    "if current_time < start_time:\n",
    "    wait_time = (start_time - current_time).total_seconds()\n",
    "    print(f\"Waiting until start time: {start_time}\")\n",
    "    time.sleep(wait_time)\n",
    "\n",
    "# Function to perform the action\n",
    "def perform_action():\n",
    "    end_time = datetime.now() + timedelta(seconds = 20)\n",
    "    while datetime.now() < end_time:\n",
    "        # Replace this with your action\n",
    "        formatted = now.strftime(\"%Y-%m-%d %H:%M\")\n",
    "        paste(generate_phrase(num, prev_passcode, formatted))\n",
    "        time.sleep(0.5)  # Simulate work\n",
    "        pyautogui.press('enter')\n",
    "        pyautogui.press('enter')\n",
    "        pyautogui.press('enter')\n",
    "\n",
    "# Loop to perform the action and wait for the next slot\n",
    "while True:\n",
    "    # Get the current time\n",
    "    current_time = datetime.now()\n",
    "\n",
    "    # Perform the action 10 seconds before the target time\n",
    "    action_start_time = start_time - timedelta(seconds=10)\n",
    "    action_wait_time = (action_start_time - current_time).total_seconds()\n",
    "    if action_wait_time > 0:\n",
    "        # print(f\"Waiting {action_wait_time:.1f} seconds until action start...\")\n",
    "        time.sleep(action_wait_time)\n",
    "\n",
    "    # Perform the action\n",
    "    perform_action()\n",
    "\n",
    "    # increment numbers\n",
    "    num += 64\n",
    "    prev_passcode = get_res()\n",
    "\n",
    "    # Schedule the next slot\n",
    "    start_time += timedelta(minutes=19)\n",
    "    wait_time = (start_time - datetime.now()).total_seconds()\n",
    "    print(f\"Next action scheduled for {start_time.strftime('%Y-%m-%d %H:%M:%S')}\")\n",
    "    time.sleep(wait_time)"
   ],
   "outputs": [
    {
     "name": "stdout",
     "output_type": "stream",
     "text": [
      "Waiting until start time: 2024-11-17 02:03:00\n"
     ]
    },
    {
     "ename": "KeyboardInterrupt",
     "evalue": "",
     "output_type": "error",
     "traceback": [
      "\u001B[0;31m---------------------------------------------------------------------------\u001B[0m",
      "\u001B[0;31mKeyboardInterrupt\u001B[0m                         Traceback (most recent call last)",
      "Cell \u001B[0;32mIn[1], line 18\u001B[0m\n\u001B[1;32m     16\u001B[0m     wait_time \u001B[38;5;241m=\u001B[39m (start_time \u001B[38;5;241m-\u001B[39m current_time)\u001B[38;5;241m.\u001B[39mtotal_seconds()\n\u001B[1;32m     17\u001B[0m     \u001B[38;5;28mprint\u001B[39m(\u001B[38;5;124mf\u001B[39m\u001B[38;5;124m\"\u001B[39m\u001B[38;5;124mWaiting until start time: \u001B[39m\u001B[38;5;132;01m{\u001B[39;00mstart_time\u001B[38;5;132;01m}\u001B[39;00m\u001B[38;5;124m\"\u001B[39m)\n\u001B[0;32m---> 18\u001B[0m     \u001B[43mtime\u001B[49m\u001B[38;5;241;43m.\u001B[39;49m\u001B[43msleep\u001B[49m\u001B[43m(\u001B[49m\u001B[43mwait_time\u001B[49m\u001B[43m)\u001B[49m\n\u001B[1;32m     20\u001B[0m \u001B[38;5;66;03m# Function to perform the action\u001B[39;00m\n\u001B[1;32m     21\u001B[0m \u001B[38;5;28;01mdef\u001B[39;00m \u001B[38;5;21mperform_action\u001B[39m():\n",
      "\u001B[0;31mKeyboardInterrupt\u001B[0m: "
     ]
    }
   ],
   "execution_count": 1
  }
 ],
 "metadata": {
  "kernelspec": {
   "display_name": "Python 3",
   "language": "python",
   "name": "python3"
  },
  "language_info": {
   "codemirror_mode": {
    "name": "ipython",
    "version": 2
   },
   "file_extension": ".py",
   "mimetype": "text/x-python",
   "name": "python",
   "nbconvert_exporter": "python",
   "pygments_lexer": "ipython2",
   "version": "2.7.6"
  }
 },
 "nbformat": 4,
 "nbformat_minor": 5
}
