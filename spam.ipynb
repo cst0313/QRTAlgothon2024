{
 "cells": [
  {
   "cell_type": "code",
   "execution_count": null,
   "id": "b7c8bb39",
   "metadata": {},
   "outputs": [],
   "source": [
    "import pyautogui\n",
    "import pyperclip\n",
    "import datetime\n",
    "\n",
    "def paste(form_data):\n",
    "    pyautogui.click(1000,800) # in case we didn't address that window\n",
    "    pyperclip.copy(form_data)\n",
    "    pyautogui.click(1000,800) # cursor to textbox\n",
    "    pyautogui.hotkey('command', 'v')\n",
    "    pyautogui.click(1350,850) # send button\n",
    "\n",
    "def generate_phrase(idx, phrase, time):\n",
    "    return f\"Data has 'release_{num}.crypt' the passcode is '{prev_passcode}'. Please make a forecast. [Internal Check: {time}]\""
   ]
  },
  {
   "cell_type": "code",
   "execution_count": null,
   "id": "initial_id",
   "metadata": {
    "ExecuteTime": {
     "end_time": "2024-11-16T23:33:12.662254Z",
     "start_time": "2024-11-16T23:33:05.250176Z"
    },
    "collapsed": true
   },
   "outputs": [
    {
     "ename": "NameError",
     "evalue": "name 'get_res' is not defined",
     "output_type": "error",
     "traceback": [
      "\u001b[1;31m---------------------------------------------------------------------------\u001b[0m",
      "\u001b[1;31mNameError\u001b[0m                                 Traceback (most recent call last)",
      "Cell \u001b[1;32mIn[4], line 49\u001b[0m\n\u001b[0;32m     47\u001b[0m \u001b[38;5;66;03m# increment numbers\u001b[39;00m\n\u001b[0;32m     48\u001b[0m num \u001b[38;5;241m+\u001b[39m\u001b[38;5;241m=\u001b[39m \u001b[38;5;241m64\u001b[39m\n\u001b[1;32m---> 49\u001b[0m prev_passcode \u001b[38;5;241m=\u001b[39m get_res()\n\u001b[0;32m     51\u001b[0m \u001b[38;5;66;03m# Schedule the next slot\u001b[39;00m\n\u001b[0;32m     52\u001b[0m start_time \u001b[38;5;241m+\u001b[39m\u001b[38;5;241m=\u001b[39m timedelta(minutes\u001b[38;5;241m=\u001b[39m\u001b[38;5;241m19\u001b[39m)\n",
      "\u001b[1;31mNameError\u001b[0m: name 'get_res' is not defined"
     ]
    }
   ],
   "source": [
    "import time\n",
    "from datetime import datetime, timedelta\n",
    "\n",
    "num = 6555\n",
    "now = datetime.now()\n",
    "prev_passcode = \"\"\n",
    "\n",
    "# Start time\n",
    "start_time = datetime(2024, 11, 17, 0o2, 0o3)\n",
    "\n",
    "# Current time\n",
    "current_time = datetime.now()\n",
    "\n",
    "# Wait until the start time if it's in the future\n",
    "if current_time < start_time:\n",
    "    wait_time = (start_time - current_time).total_seconds()\n",
    "    print(f\"Waiting until start time: {start_time}\")\n",
    "    time.sleep(wait_time)\n",
    "\n",
    "# Function to perform the action\n",
    "def perform_action():\n",
    "    end_time = datetime.now() + timedelta(seconds = 20)\n",
    "    while datetime.now() < end_time:\n",
    "        # Replace this with your action\n",
    "        now = datetime.now()\n",
    "        formatted = now.strftime(\"%Y-%m-%d %H:%M\")\n",
    "        paste(generate_phrase(num, prev_passcode, formatted))\n",
    "        pyautogui.press('enter')\n",
    "        pyautogui.press('enter')\n",
    "        pyautogui.press('enter')\n",
    "\n",
    "# Loop to perform the action and wait for the next slot\n",
    "while True:\n",
    "    # Get the current time\n",
    "    current_time = datetime.now()\n",
    "\n",
    "    # Perform the action 10 seconds before the target time\n",
    "    action_start_time = start_time - timedelta(seconds=10)\n",
    "    action_wait_time = (action_start_time - current_time).total_seconds()\n",
    "    if action_wait_time > 0:\n",
    "        # print(f\"Waiting {action_wait_time:.1f} seconds until action start...\")\n",
    "        time.sleep(action_wait_time)\n",
    "\n",
    "    # Perform the action\n",
    "    perform_action()\n",
    "\n",
    "    # increment numbers\n",
    "    num += 64\n",
    "    prev_passcode = get_res()\n",
    "\n",
    "    # Schedule the next slot\n",
    "    start_time += timedelta(minutes=19)\n",
    "    wait_time = (start_time - datetime.now()).total_seconds()\n",
    "    print(f\"Next action scheduled for {start_time.strftime('%Y-%m-%d %H:%M:%S')}\")\n",
    "    time.sleep(wait_time)"
   ]
  }
 ],
 "metadata": {
  "kernelspec": {
   "display_name": "base",
   "language": "python",
   "name": "python3"
  },
  "language_info": {
   "codemirror_mode": {
    "name": "ipython",
    "version": 3
   },
   "file_extension": ".py",
   "mimetype": "text/x-python",
   "name": "python",
   "nbconvert_exporter": "python",
   "pygments_lexer": "ipython3",
   "version": "3.11.7"
  }
 },
 "nbformat": 4,
 "nbformat_minor": 5
}
